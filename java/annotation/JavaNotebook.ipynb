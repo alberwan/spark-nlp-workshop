{
  "nbformat": 4,
  "nbformat_minor": 0,
  "metadata": {
    "colab": {
      "name": "Untitled0.ipynb",
      "provenance": [],
      "authorship_tag": "ABX9TyN/Q8KNm/sWB4vHmMK3e8uD",
      "include_colab_link": true
    },
    "kernelspec": {
      "name": "python3",
      "display_name": "Python 3"
    }
  },
  "cells": [
    {
      "cell_type": "markdown",
      "metadata": {
        "id": "view-in-github",
        "colab_type": "text"
      },
      "source": [
        "<a href=\"https://colab.research.google.com/github/alberwan/spark-nlp-workshop/blob/master/JavaNotebook.ipynb\" target=\"_parent\"><img src=\"https://colab.research.google.com/assets/colab-badge.svg\" alt=\"Open In Colab\"/></a>"
      ]
    },
    {
      "cell_type": "code",
      "metadata": {
        "id": "UMIrZTwR8Kyv",
        "colab_type": "code",
        "colab": {}
      },
      "source": [
        "# Install java\n",
        "! apt-get install -y openjdk-8-jdk-headless -qq > /dev/null\n",
        "os.environ[\"JAVA_HOME\"] = \"/usr/lib/jvm/java-8-openjdk-amd64\"\n",
        "os.environ[\"PATH\"] = os.environ[\"JAVA_HOME\"] + \"/bin:\" + os.environ[\"PATH\"]\n",
        "! java -version\n",
        "\n",
        "# Install pyspark\n",
        "! pip install --ignore-installed pyspark==2.4.4\n",
        "\n",
        "# Install Spark NLP\n",
        "! pip install --ignore-installed spark-nlp==2.5.1"
      ],
      "execution_count": null,
      "outputs": []
    },
    {
      "cell_type": "code",
      "metadata": {
        "id": "CvKhBTeGAGXy",
        "colab_type": "code",
        "colab": {}
      },
      "source": [
        "package EDG.SparkNLP.com;\n",
        "\n",
        "import com.johnsnowlabs.nlp.DocumentAssembler;\n",
        "import com.johnsnowlabs.nlp.EmbeddingsFinisher;\n",
        "import com.johnsnowlabs.nlp.LightPipeline;\n",
        "import com.johnsnowlabs.nlp.annotators.LemmatizerModel;\n",
        "import com.johnsnowlabs.nlp.annotators.Tokenizer;\n",
        "import com.johnsnowlabs.nlp.embeddings.*; //.embeddings.EmbeddingsHelper;\n",
        "//import com.johnsnowlabs.nlp.embeddings.ClusterWordEmbeddings;\n",
        "import com.johnsnowlabs.nlp.SparkNLP;\n",
        "import com.johnsnowlabs.nlp.pretrained.PretrainedPipeline;\n",
        "import org.apache.spark.ml.Pipeline;\n",
        "import org.apache.spark.ml.PipelineModel;\n",
        "import org.apache.spark.ml.PipelineStage;\n",
        "import org.apache.spark.sql.Dataset;\n",
        "import org.apache.spark.sql.Encoders;\n",
        "import org.apache.spark.sql.Row;\n",
        "import org.apache.spark.sql.SparkSession;\n",
        "\n",
        "import java.util.LinkedList;\n",
        "\n",
        "public class SparkNLPAnnotation {\n",
        "\n",
        "\tpublic static void main(String[] args) {\n",
        "\t\t// TODO Auto-generated method stub\n",
        "\t\tDocumentAssembler document = new DocumentAssembler();\n",
        "        document.setInputCol(\"text\");\n",
        "        document.setOutputCol(\"document\");\n",
        "        document.setCleanupMode(\"disabled\");\n",
        "\n",
        "        Tokenizer tokenizer = new Tokenizer();\n",
        "        tokenizer.setInputCols(new String[] {\"document\"});\n",
        "        tokenizer.setOutputCol(\"token\");\n",
        "\n",
        "        Pipeline pipeline = new Pipeline();\n",
        "        pipeline.setStages(new PipelineStage[] {document, tokenizer});\n",
        "\n",
        "        SparkSession spark = com.johnsnowlabs.nlp.SparkNLP.start(false, false);\n",
        "\n",
        "        LinkedList<String> text = new java.util.LinkedList<String>();\n",
        "\n",
        "        text.add(\"Peter is a very good person\");\n",
        "\n",
        "        Dataset<Row> data = spark.createDataset(text, Encoders.STRING()).toDF(\"text\");\n",
        "\n",
        "        PipelineModel pipelineModel = pipeline.fit(data);\n",
        "\n",
        "        Dataset<Row> transformed = pipelineModel.transform(data);\n",
        "        transformed.show();\n",
        "\n",
        "        /*\n",
        "         * Do Spark-NLP pretrained pipelines only work on linux systems?\n",
        "         * https://stackoverflow.com/questions/57610129/do-spark-nlp-pretrained-pipelines-only-work-on-linux-systems\n",
        "         * \n",
        "         */\n",
        "        PretrainedPipeline pretrained = new PretrainedPipeline(\"explain_document_dl\");\n",
        "        //PretrainedPipeline pretrained = new PretrainedPipeline(\"explain_document_dl_noncontrib\");\n",
        "        pretrained.transform(data).show();\n",
        "\n",
        "        LemmatizerModel lemmatizer = (LemmatizerModel) LemmatizerModel.pretrained(\"lemma_antbnc\");\n",
        "        lemmatizer.setInputCols(new String[] {\"token\"});\n",
        "        lemmatizer.setOutputCol(\"lemma\");\n",
        "\n",
        "        lemmatizer.transform(transformed).show();\n",
        "\n",
        "        LightPipeline lightPipeline = new LightPipeline(pipelineModel, true);\n",
        "\n",
        "        java.util.Map<String, java.util.List<String>> result = lightPipeline.annotateJava(\"Peter is a very good person.\");\n",
        "\n",
        "        System.out.println(result.get(\"token\"));\n",
        "\n",
        "        java.util.ArrayList<String> list = new java.util.ArrayList<String>();\n",
        "        list.add(\"Peter is a good person.\");\n",
        "        list.add(\"Roy lives in Germany.\");\n",
        "\n",
        "        System.out.println(lightPipeline.annotateJava(list));\n",
        "        \n",
        "        //EmbeddingsHelper.load(\"./random_embeddings_dim4.txt\",spark,\"TEXT\",\"random\",4,false);\n",
        "\n",
        "        System.out.println(\"\\nFinished testing Spark NLP on JAVA\");\n",
        "\t}\n",
        "}"
      ],
      "execution_count": null,
      "outputs": []
    }
  ]
}
